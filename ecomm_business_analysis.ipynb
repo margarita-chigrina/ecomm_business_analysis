{
 "cells": [
  {
   "cell_type": "code",
   "execution_count": 22,
   "metadata": {},
   "outputs": [],
   "source": [
    "import pandas as pd\n",
    "import seaborn as sns\n",
    "import matplotlib.pyplot as plt\n",
    "from datetime import timedelta\n",
    "import calendar"
   ]
  },
  {
   "cell_type": "code",
   "execution_count": 23,
   "metadata": {},
   "outputs": [],
   "source": [
    "customers_info = pd.read_csv('olist_customers_dataset.csv')\n",
    "\n",
    "items_info = pd.read_csv('olist_order_items_dataset.csv', parse_dates=['shipping_limit_date'])\n",
    "\n",
    "orders_info = pd.read_csv('olist_orders_dataset.csv', parse_dates=['order_estimated_delivery_date',\\\n",
    "                                                         'order_delivered_customer_date',\\\n",
    "                                                         'order_delivered_carrier_date', \\\n",
    "                                                         'order_approved_at', \\\n",
    "                                                         'order_purchase_timestamp'])"
   ]
  },
  {
   "cell_type": "code",
   "execution_count": 24,
   "metadata": {
    "scrolled": true
   },
   "outputs": [
    {
     "name": "stdout",
     "output_type": "stream",
     "text": [
      "<class 'pandas.core.frame.DataFrame'>\n",
      "RangeIndex: 99441 entries, 0 to 99440\n",
      "Data columns (total 5 columns):\n",
      " #   Column                    Non-Null Count  Dtype \n",
      "---  ------                    --------------  ----- \n",
      " 0   customer_id               99441 non-null  object\n",
      " 1   customer_unique_id        99441 non-null  object\n",
      " 2   customer_zip_code_prefix  99441 non-null  int64 \n",
      " 3   customer_city             99441 non-null  object\n",
      " 4   customer_state            99441 non-null  object\n",
      "dtypes: int64(1), object(4)\n",
      "memory usage: 3.8+ MB\n"
     ]
    }
   ],
   "source": [
    "# checking data types, the number of missing values, and the dimensions of the dataframe\n",
    "customers_info.info()"
   ]
  },
  {
   "cell_type": "code",
   "execution_count": 25,
   "metadata": {
    "scrolled": true
   },
   "outputs": [
    {
     "name": "stdout",
     "output_type": "stream",
     "text": [
      "<class 'pandas.core.frame.DataFrame'>\n",
      "RangeIndex: 112650 entries, 0 to 112649\n",
      "Data columns (total 7 columns):\n",
      " #   Column               Non-Null Count   Dtype         \n",
      "---  ------               --------------   -----         \n",
      " 0   order_id             112650 non-null  object        \n",
      " 1   order_item_id        112650 non-null  int64         \n",
      " 2   product_id           112650 non-null  object        \n",
      " 3   seller_id            112650 non-null  object        \n",
      " 4   shipping_limit_date  112650 non-null  datetime64[ns]\n",
      " 5   price                112650 non-null  float64       \n",
      " 6   freight_value        112650 non-null  float64       \n",
      "dtypes: datetime64[ns](1), float64(2), int64(1), object(3)\n",
      "memory usage: 6.0+ MB\n"
     ]
    }
   ],
   "source": [
    "items_info.info()"
   ]
  },
  {
   "cell_type": "code",
   "execution_count": 26,
   "metadata": {
    "scrolled": false
   },
   "outputs": [
    {
     "name": "stdout",
     "output_type": "stream",
     "text": [
      "<class 'pandas.core.frame.DataFrame'>\n",
      "RangeIndex: 99441 entries, 0 to 99440\n",
      "Data columns (total 8 columns):\n",
      " #   Column                         Non-Null Count  Dtype         \n",
      "---  ------                         --------------  -----         \n",
      " 0   order_id                       99441 non-null  object        \n",
      " 1   customer_id                    99441 non-null  object        \n",
      " 2   order_status                   99441 non-null  object        \n",
      " 3   order_purchase_timestamp       99441 non-null  datetime64[ns]\n",
      " 4   order_approved_at              99281 non-null  datetime64[ns]\n",
      " 5   order_delivered_carrier_date   97658 non-null  datetime64[ns]\n",
      " 6   order_delivered_customer_date  96476 non-null  datetime64[ns]\n",
      " 7   order_estimated_delivery_date  99441 non-null  datetime64[ns]\n",
      "dtypes: datetime64[ns](5), object(3)\n",
      "memory usage: 6.1+ MB\n"
     ]
    }
   ],
   "source": [
    "orders_info.info()"
   ]
  },
  {
   "cell_type": "markdown",
   "metadata": {},
   "source": [
    "# Counting Users Who Made a Purchase Only Once"
   ]
  },
  {
   "cell_type": "code",
   "execution_count": 27,
   "metadata": {
    "scrolled": false
   },
   "outputs": [],
   "source": [
    "# Joining the customers_info and orders_info dataframes on the customer_id column, as a unique user identifier \n",
    "# customer_unique_id is required to determine the number of users\n",
    "customers_orders = customers_info.merge(orders_info, on = 'customer_id')"
   ]
  },
  {
   "cell_type": "code",
   "execution_count": 28,
   "metadata": {},
   "outputs": [],
   "source": [
    "# What is not considered a purchase completion:\n",
    "# Case 1 order_status in ('invoiced', 'unavailable', 'canceled')\n",
    "# Case 2 order_approved_at.isna() & order_status != 'delivered' \n",
    "\n",
    "# Otherwise, purchase completion is considered the inversion of the first and second cases and successful purchases \n",
    "# are recorded in a new dataframe named purchase\n",
    "\n",
    "purchase = customers_orders.query(\"(order_status not in ('invoiced', 'unavailable', 'canceled'))\\\n",
    "                                    and (not (order_approved_at.isna() & order_status != 'delivered'))\")"
   ]
  },
  {
   "cell_type": "code",
   "execution_count": 29,
   "metadata": {},
   "outputs": [],
   "source": [
    "# Counting the number of orders by user\n",
    "users_order_count = purchase.groupby('customer_unique_id', as_index = False)\\\n",
    "                            .agg({'order_id':'count'})\\\n",
    "                            .rename(columns = {'order_id':'order_quantity'})"
   ]
  },
  {
   "cell_type": "code",
   "execution_count": 30,
   "metadata": {},
   "outputs": [
    {
     "name": "stdout",
     "output_type": "stream",
     "text": [
      "91816 users made only one purchase, which constitutes 96.97 of all \n",
      "users who made purchases. Thus, only 3.03 of users made more than one purchase\n"
     ]
    }
   ],
   "source": [
    "users_with_orders = users_order_count.shape[0]\n",
    "users_with_one_order = users_order_count.query('order_quantity == 1').shape[0]\n",
    "\n",
    "percentage_one_order = round((users_with_one_order/users_with_orders * 100), 2)\n",
    "percentage_several_orders = round((100 - percentage_one_order), 2)\n",
    "\n",
    "print(f'''{users_with_one_order} users made only one purchase, which constitutes {percentage_one_order} of all \n",
    "users who made purchases. Thus, only {percentage_several_orders} of users made more than one purchase''') "
   ]
  },
  {
   "cell_type": "code",
   "execution_count": 31,
   "metadata": {
    "scrolled": false
   },
   "outputs": [
    {
     "data": {
      "image/png": "[encoded data removed]",
      "text/plain": [
       "<Figure size 432x432 with 1 Axes>"
      ]
     },
     "metadata": {},
     "output_type": "display_data"
    }
   ],
   "source": [
    "plt.figure(figsize=(6, 6))\n",
    "plt.pie([percentage_one_order, percentage_several_orders], labels=[\"Only one purchase\", \"Several purchases\"],\\\n",
    "        autopct=\"%.2f%%\", startangle=180)\n",
    "plt.title('Percentage of Customers with a Single Purchase')\n",
    "plt.show()"
   ]
  },
  {
   "cell_type": "markdown",
   "metadata": {},
   "source": [
    "# Average Monthly Undelivered Orders Due to Various Reasons"
   ]
  },
  {
   "cell_type": "code",
   "execution_count": 32,
   "metadata": {},
   "outputs": [
    {
     "name": "stderr",
     "output_type": "stream",
     "text": [
      "/opt/tljh/user/lib/python3.7/site-packages/ipykernel_launcher.py:2: SettingWithCopyWarning: \n",
      "A value is trying to be set on a copy of a slice from a DataFrame.\n",
      "Try using .loc[row_indexer,col_indexer] = value instead\n",
      "\n",
      "See the caveats in the documentation: https://pandas.pydata.org/pandas-docs/stable/user_guide/indexing.html#returning-a-view-versus-a-copy\n",
      "  \n"
     ]
    }
   ],
   "source": [
    "# Adding a column with the delivery month number\n",
    "purchase['month_of_est_delivery'] = purchase['order_estimated_delivery_date'].dt.month"
   ]
  },
  {
   "cell_type": "code",
   "execution_count": 33,
   "metadata": {
    "scrolled": true
   },
   "outputs": [
    {
     "data": {
      "text/html": [
       "<div>\n",
       "<style scoped>\n",
       "    .dataframe tbody tr th:only-of-type {\n",
       "        vertical-align: middle;\n",
       "    }\n",
       "\n",
       "    .dataframe tbody tr th {\n",
       "        vertical-align: top;\n",
       "    }\n",
       "\n",
       "    .dataframe thead th {\n",
       "        text-align: right;\n",
       "    }\n",
       "</style>\n",
       "<table border=\"1\" class=\"dataframe\">\n",
       "  <thead>\n",
       "    <tr style=\"text-align: right;\">\n",
       "      <th>order_status</th>\n",
       "      <th>month_of_est_delivery</th>\n",
       "      <th>approved</th>\n",
       "      <th>processing</th>\n",
       "      <th>shipped</th>\n",
       "    </tr>\n",
       "  </thead>\n",
       "  <tbody>\n",
       "    <tr>\n",
       "      <th>0</th>\n",
       "      <td>1</td>\n",
       "      <td>0.0</td>\n",
       "      <td>28.0</td>\n",
       "      <td>51.0</td>\n",
       "    </tr>\n",
       "    <tr>\n",
       "      <th>1</th>\n",
       "      <td>2</td>\n",
       "      <td>0.0</td>\n",
       "      <td>35.0</td>\n",
       "      <td>64.0</td>\n",
       "    </tr>\n",
       "    <tr>\n",
       "      <th>2</th>\n",
       "      <td>3</td>\n",
       "      <td>1.0</td>\n",
       "      <td>44.0</td>\n",
       "      <td>124.0</td>\n",
       "    </tr>\n",
       "    <tr>\n",
       "      <th>3</th>\n",
       "      <td>4</td>\n",
       "      <td>0.0</td>\n",
       "      <td>33.0</td>\n",
       "      <td>161.0</td>\n",
       "    </tr>\n",
       "    <tr>\n",
       "      <th>4</th>\n",
       "      <td>5</td>\n",
       "      <td>1.0</td>\n",
       "      <td>18.0</td>\n",
       "      <td>172.0</td>\n",
       "    </tr>\n",
       "  </tbody>\n",
       "</table>\n",
       "</div>"
      ],
      "text/plain": [
       "order_status  month_of_est_delivery  approved  processing  shipped\n",
       "0                                 1       0.0        28.0     51.0\n",
       "1                                 2       0.0        35.0     64.0\n",
       "2                                 3       1.0        44.0    124.0\n",
       "3                                 4       0.0        33.0    161.0\n",
       "4                                 5       1.0        18.0    172.0"
      ]
     },
     "execution_count": 33,
     "metadata": {},
     "output_type": "execute_result"
    }
   ],
   "source": [
    "# Counting undelivered orders based on the reason\n",
    "undelivered_orders_count = purchase.query(\"order_status != 'delivered'\")\\\n",
    "                                    .groupby(['month_of_est_delivery','order_status'], as_index = False)\\\n",
    "                                    .agg({'order_id': 'count'})\\\n",
    "                                    .pivot(index='month_of_est_delivery', columns='order_status', values='order_id')\\\n",
    "                                    .reset_index()\\\n",
    "                                    .fillna(0)\n",
    "undelivered_orders_count.head()"
   ]
  },
  {
   "cell_type": "code",
   "execution_count": 34,
   "metadata": {
    "scrolled": true
   },
   "outputs": [
    {
     "data": {
      "text/html": [
       "<div>\n",
       "<style scoped>\n",
       "    .dataframe tbody tr th:only-of-type {\n",
       "        vertical-align: middle;\n",
       "    }\n",
       "\n",
       "    .dataframe tbody tr th {\n",
       "        vertical-align: top;\n",
       "    }\n",
       "\n",
       "    .dataframe thead th {\n",
       "        text-align: right;\n",
       "    }\n",
       "</style>\n",
       "<table border=\"1\" class=\"dataframe\">\n",
       "  <thead>\n",
       "    <tr style=\"text-align: right;\">\n",
       "      <th></th>\n",
       "      <th>order_status</th>\n",
       "      <th>avg_undelivered_per_month</th>\n",
       "    </tr>\n",
       "  </thead>\n",
       "  <tbody>\n",
       "    <tr>\n",
       "      <th>2</th>\n",
       "      <td>shipped</td>\n",
       "      <td>92.25</td>\n",
       "    </tr>\n",
       "    <tr>\n",
       "      <th>1</th>\n",
       "      <td>processing</td>\n",
       "      <td>25.08</td>\n",
       "    </tr>\n",
       "    <tr>\n",
       "      <th>0</th>\n",
       "      <td>approved</td>\n",
       "      <td>0.17</td>\n",
       "    </tr>\n",
       "  </tbody>\n",
       "</table>\n",
       "</div>"
      ],
      "text/plain": [
       "  order_status  avg_undelivered_per_month\n",
       "2      shipped                      92.25\n",
       "1   processing                      25.08\n",
       "0     approved                       0.17"
      ]
     },
     "execution_count": 34,
     "metadata": {},
     "output_type": "execute_result"
    }
   ],
   "source": [
    "# Calculating the average quantity of undelivered orders per category\n",
    "undelivered_orders_mean = undelivered_orders_count[['approved', 'processing', 'shipped']]\\\n",
    "                            .mean()\\\n",
    "                            .to_frame()\\\n",
    "                            .reset_index()\\\n",
    "                            .rename(columns = {0:'avg_undelivered_per_month'})\\\n",
    "                            .sort_values('avg_undelivered_per_month', ascending = False)\\\n",
    "                            .round(2)\n",
    "undelivered_orders_mean"
   ]
  },
  {
   "cell_type": "code",
   "execution_count": 35,
   "metadata": {},
   "outputs": [
    {
     "data": {
      "text/plain": [
       "Text(0.5, 1.0, 'Average Undelivered Orders Count per Month by Order Status')"
      ]
     },
     "execution_count": 35,
     "metadata": {},
     "output_type": "execute_result"
    },
    {
     "data": {
      "image/png": "[encoded data removed]",
      "text/plain": [
       "<Figure size 864x576 with 1 Axes>"
      ]
     },
     "metadata": {
      "needs_background": "light"
     },
     "output_type": "display_data"
    }
   ],
   "source": [
    "plt.figure(figsize=(12, 8))\n",
    "sns.barplot(x='order_status', y='avg_undelivered_per_month', data=undelivered_orders_mean)\n",
    "plt.xlabel('Order Status')\n",
    "plt.ylabel('Average Undelivered Orders Count Per Month')\n",
    "plt.title('Average Undelivered Orders Count per Month by Order Status')"
   ]
  },
  {
   "cell_type": "markdown",
   "metadata": {},
   "source": [
    "# Identifying the Most Purchased Day of the Week for Each Product"
   ]
  },
  {
   "cell_type": "code",
   "execution_count": 36,
   "metadata": {},
   "outputs": [],
   "source": [
    "items_in_orders = items_info.merge(orders_info, how = 'left', on = 'order_id')"
   ]
  },
  {
   "cell_type": "code",
   "execution_count": 37,
   "metadata": {},
   "outputs": [],
   "source": [
    "# Adding a column with the day of the week number:\n",
    "dow = {0: 'Mon', 1: 'Tue', 2: 'Wed', 3: 'Thu', 4: 'Fri', 5: 'Sat', 6: 'Sun'}\n",
    "items_in_orders['day_of_week_number'] = items_in_orders['order_purchase_timestamp'].dt.dayofweek\n",
    "items_in_orders['day_of_week'] = items_in_orders['day_of_week_number'].map(dow)"
   ]
  },
  {
   "cell_type": "code",
   "execution_count": 38,
   "metadata": {},
   "outputs": [],
   "source": [
    "# What is not considered a purchase completion:\n",
    "# Case 1 order_status in ('invoiced', 'unavailable', 'canceled')\n",
    "# Case 2 order_approved_at.isna() & order_status != 'delivered' \n",
    "\n",
    "# Otherwise, purchase completion is considered the inversion of the first and second cases and successful purchases \n",
    "# are recorded in a new dataframe named purchase\n",
    "\n",
    "sold_items = items_in_orders.query(\"(order_status not in ('invoiced', 'unavailable', 'canceled'))\\\n",
    "                                    and (not (order_approved_at.isna() & order_status != 'delivered'))\")"
   ]
  },
  {
   "cell_type": "code",
   "execution_count": 39,
   "metadata": {},
   "outputs": [
    {
     "name": "stdout",
     "output_type": "stream",
     "text": [
      "Sold 32616 unique items.\n"
     ]
    }
   ],
   "source": [
    "print(f'Sold {sold_items.product_id.nunique()} unique items.')"
   ]
  },
  {
   "cell_type": "code",
   "execution_count": 40,
   "metadata": {},
   "outputs": [],
   "source": [
    "# Counting the number of sold items for each product per day of the week\n",
    "purchases_per_dow = sold_items.groupby(['product_id', 'day_of_week', 'day_of_week_number'], as_index = False)\\\n",
    "                                .agg({'order_item_id':'count'})\\\n",
    "                                .rename(columns = {'order_item_id':'item_sold_quantity'})"
   ]
  },
  {
   "cell_type": "code",
   "execution_count": 41,
   "metadata": {},
   "outputs": [],
   "source": [
    "# Obtaining the indexes with the maximum quantity of sold units for each unique product\n",
    "indexes_most_sold = purchases_per_dow.groupby('product_id').item_sold_quantity.idxmax()"
   ]
  },
  {
   "cell_type": "code",
   "execution_count": 42,
   "metadata": {
    "scrolled": true
   },
   "outputs": [
    {
     "data": {
      "text/html": [
       "<div>\n",
       "<style scoped>\n",
       "    .dataframe tbody tr th:only-of-type {\n",
       "        vertical-align: middle;\n",
       "    }\n",
       "\n",
       "    .dataframe tbody tr th {\n",
       "        vertical-align: top;\n",
       "    }\n",
       "\n",
       "    .dataframe thead th {\n",
       "        text-align: right;\n",
       "    }\n",
       "</style>\n",
       "<table border=\"1\" class=\"dataframe\">\n",
       "  <thead>\n",
       "    <tr style=\"text-align: right;\">\n",
       "      <th></th>\n",
       "      <th>product_id</th>\n",
       "      <th>day_of_week</th>\n",
       "      <th>day_of_week_number</th>\n",
       "      <th>item_sold_quantity</th>\n",
       "    </tr>\n",
       "  </thead>\n",
       "  <tbody>\n",
       "    <tr>\n",
       "      <th>15766</th>\n",
       "      <td>422879e10f46682990de24d770e7f83d</td>\n",
       "      <td>Wed</td>\n",
       "      <td>2</td>\n",
       "      <td>93</td>\n",
       "    </tr>\n",
       "    <tr>\n",
       "      <th>36178</th>\n",
       "      <td>99a4788cb24856965c36a24e339b6058</td>\n",
       "      <td>Mon</td>\n",
       "      <td>0</td>\n",
       "      <td>92</td>\n",
       "    </tr>\n",
       "    <tr>\n",
       "      <th>40679</th>\n",
       "      <td>aca2eb7d00ea1a7b8ebd4e68314663af</td>\n",
       "      <td>Thu</td>\n",
       "      <td>3</td>\n",
       "      <td>89</td>\n",
       "    </tr>\n",
       "    <tr>\n",
       "      <th>19944</th>\n",
       "      <td>53b36df67ebb7c41585e8d54d6772e08</td>\n",
       "      <td>Tue</td>\n",
       "      <td>1</td>\n",
       "      <td>76</td>\n",
       "    </tr>\n",
       "    <tr>\n",
       "      <th>12892</th>\n",
       "      <td>368c6c730842d78016ad823897a372db</td>\n",
       "      <td>Fri</td>\n",
       "      <td>4</td>\n",
       "      <td>67</td>\n",
       "    </tr>\n",
       "  </tbody>\n",
       "</table>\n",
       "</div>"
      ],
      "text/plain": [
       "                             product_id day_of_week  day_of_week_number  \\\n",
       "15766  422879e10f46682990de24d770e7f83d         Wed                   2   \n",
       "36178  99a4788cb24856965c36a24e339b6058         Mon                   0   \n",
       "40679  aca2eb7d00ea1a7b8ebd4e68314663af         Thu                   3   \n",
       "19944  53b36df67ebb7c41585e8d54d6772e08         Tue                   1   \n",
       "12892  368c6c730842d78016ad823897a372db         Fri                   4   \n",
       "\n",
       "       item_sold_quantity  \n",
       "15766                  93  \n",
       "36178                  92  \n",
       "40679                  89  \n",
       "19944                  76  \n",
       "12892                  67  "
      ]
     },
     "execution_count": 42,
     "metadata": {},
     "output_type": "execute_result"
    }
   ],
   "source": [
    "# Filtering by max indexes, dropping unnecessary rows, sorting by popularity in descending order\n",
    "most_purchased_dow_per_product = purchases_per_dow.loc[indexes_most_sold]\\\n",
    "                                .sort_values('item_sold_quantity', ascending = False)\n",
    "\n",
    "most_purchased_dow_per_product.head()"
   ]
  },
  {
   "cell_type": "markdown",
   "metadata": {},
   "source": [
    "# Determining the most popular day of the week overall"
   ]
  },
  {
   "cell_type": "code",
   "execution_count": 43,
   "metadata": {},
   "outputs": [
    {
     "data": {
      "text/html": [
       "<div>\n",
       "<style scoped>\n",
       "    .dataframe tbody tr th:only-of-type {\n",
       "        vertical-align: middle;\n",
       "    }\n",
       "\n",
       "    .dataframe tbody tr th {\n",
       "        vertical-align: top;\n",
       "    }\n",
       "\n",
       "    .dataframe thead th {\n",
       "        text-align: right;\n",
       "    }\n",
       "</style>\n",
       "<table border=\"1\" class=\"dataframe\">\n",
       "  <thead>\n",
       "    <tr style=\"text-align: right;\">\n",
       "      <th></th>\n",
       "      <th>day_of_week</th>\n",
       "      <th>item_sold_quantity</th>\n",
       "    </tr>\n",
       "    <tr>\n",
       "      <th>day_of_week_number</th>\n",
       "      <th></th>\n",
       "      <th></th>\n",
       "    </tr>\n",
       "  </thead>\n",
       "  <tbody>\n",
       "    <tr>\n",
       "      <th>0</th>\n",
       "      <td>Mon</td>\n",
       "      <td>10973</td>\n",
       "    </tr>\n",
       "    <tr>\n",
       "      <th>1</th>\n",
       "      <td>Tue</td>\n",
       "      <td>8335</td>\n",
       "    </tr>\n",
       "    <tr>\n",
       "      <th>2</th>\n",
       "      <td>Wed</td>\n",
       "      <td>7418</td>\n",
       "    </tr>\n",
       "    <tr>\n",
       "      <th>3</th>\n",
       "      <td>Thu</td>\n",
       "      <td>7711</td>\n",
       "    </tr>\n",
       "    <tr>\n",
       "      <th>4</th>\n",
       "      <td>Fri</td>\n",
       "      <td>9373</td>\n",
       "    </tr>\n",
       "    <tr>\n",
       "      <th>5</th>\n",
       "      <td>Sat</td>\n",
       "      <td>5155</td>\n",
       "    </tr>\n",
       "    <tr>\n",
       "      <th>6</th>\n",
       "      <td>Sun</td>\n",
       "      <td>5627</td>\n",
       "    </tr>\n",
       "  </tbody>\n",
       "</table>\n",
       "</div>"
      ],
      "text/plain": [
       "                   day_of_week  item_sold_quantity\n",
       "day_of_week_number                                \n",
       "0                          Mon               10973\n",
       "1                          Tue                8335\n",
       "2                          Wed                7418\n",
       "3                          Thu                7711\n",
       "4                          Fri                9373\n",
       "5                          Sat                5155\n",
       "6                          Sun                5627"
      ]
     },
     "execution_count": 43,
     "metadata": {},
     "output_type": "execute_result"
    }
   ],
   "source": [
    "most_popular_dow = most_purchased_dow_per_product.groupby(['day_of_week','day_of_week_number'], as_index = False)\\\n",
    "                                                .agg({'item_sold_quantity':'sum'})\\\n",
    "                                                .sort_values('day_of_week_number')\n",
    "\n",
    "most_popular_dow.set_index('day_of_week_number', inplace=True)\n",
    "most_popular_dow"
   ]
  },
  {
   "cell_type": "code",
   "execution_count": 44,
   "metadata": {},
   "outputs": [
    {
     "data": {
      "text/plain": [
       "Text(0.5, 1.0, 'Popularity of Day of Sold Items')"
      ]
     },
     "execution_count": 44,
     "metadata": {},
     "output_type": "execute_result"
    },
    {
     "data": {
      "image/png": "[encoded data removed]",
      "text/plain": [
       "<Figure size 576x432 with 1 Axes>"
      ]
     },
     "metadata": {
      "needs_background": "light"
     },
     "output_type": "display_data"
    }
   ],
   "source": [
    "plt.figure(figsize=(8, 6))\n",
    "sns.barplot(x='day_of_week', y='item_sold_quantity', data=most_popular_dow)\n",
    "plt.xlabel('Day of the Week')\n",
    "plt.ylabel('Quantity')\n",
    "plt.title('Popularity of Day of Sold Items')"
   ]
  },
  {
   "cell_type": "markdown",
   "metadata": {},
   "source": [
    "# Average Weekly Purchases per Unique User (in a specific month)"
   ]
  },
  {
   "cell_type": "code",
   "execution_count": 45,
   "metadata": {
    "scrolled": true
   },
   "outputs": [
    {
     "name": "stderr",
     "output_type": "stream",
     "text": [
      "/opt/tljh/user/lib/python3.7/site-packages/ipykernel_launcher.py:2: SettingWithCopyWarning: \n",
      "A value is trying to be set on a copy of a slice from a DataFrame.\n",
      "Try using .loc[row_indexer,col_indexer] = value instead\n",
      "\n",
      "See the caveats in the documentation: https://pandas.pydata.org/pandas-docs/stable/user_guide/indexing.html#returning-a-view-versus-a-copy\n",
      "  \n",
      "/opt/tljh/user/lib/python3.7/site-packages/ipykernel_launcher.py:3: SettingWithCopyWarning: \n",
      "A value is trying to be set on a copy of a slice from a DataFrame.\n",
      "Try using .loc[row_indexer,col_indexer] = value instead\n",
      "\n",
      "See the caveats in the documentation: https://pandas.pydata.org/pandas-docs/stable/user_guide/indexing.html#returning-a-view-versus-a-copy\n",
      "  This is separate from the ipykernel package so we can avoid doing imports until\n"
     ]
    }
   ],
   "source": [
    "# information about the year and month of order creation\n",
    "purchase['purchase_month'] = purchase['order_purchase_timestamp'].dt.month\n",
    "purchase['purchase_year'] = purchase['order_purchase_timestamp'].dt.year"
   ]
  },
  {
   "cell_type": "code",
   "execution_count": 46,
   "metadata": {},
   "outputs": [
    {
     "name": "stderr",
     "output_type": "stream",
     "text": [
      "/opt/tljh/user/lib/python3.7/site-packages/ipykernel_launcher.py:3: SettingWithCopyWarning: \n",
      "A value is trying to be set on a copy of a slice from a DataFrame.\n",
      "Try using .loc[row_indexer,col_indexer] = value instead\n",
      "\n",
      "See the caveats in the documentation: https://pandas.pydata.org/pandas-docs/stable/user_guide/indexing.html#returning-a-view-versus-a-copy\n",
      "  This is separate from the ipykernel package so we can avoid doing imports until\n"
     ]
    }
   ],
   "source": [
    "# Creating a column to count the number of weeks in a specific year and month\n",
    "purchase['weeks_in_month'] = purchase.apply(lambda x: calendar.monthrange(x['purchase_year'],\\\n",
    "                                                                        x['purchase_month'])[1]/7, axis=1)"
   ]
  },
  {
   "cell_type": "code",
   "execution_count": 47,
   "metadata": {
    "scrolled": true
   },
   "outputs": [
    {
     "data": {
      "text/html": [
       "<div>\n",
       "<style scoped>\n",
       "    .dataframe tbody tr th:only-of-type {\n",
       "        vertical-align: middle;\n",
       "    }\n",
       "\n",
       "    .dataframe tbody tr th {\n",
       "        vertical-align: top;\n",
       "    }\n",
       "\n",
       "    .dataframe thead th {\n",
       "        text-align: right;\n",
       "    }\n",
       "</style>\n",
       "<table border=\"1\" class=\"dataframe\">\n",
       "  <thead>\n",
       "    <tr style=\"text-align: right;\">\n",
       "      <th></th>\n",
       "      <th>customer_unique_id</th>\n",
       "      <th>purchase_month</th>\n",
       "      <th>purchase_year</th>\n",
       "      <th>weeks_in_month</th>\n",
       "      <th>order_quantity</th>\n",
       "    </tr>\n",
       "  </thead>\n",
       "  <tbody>\n",
       "    <tr>\n",
       "      <th>7214</th>\n",
       "      <td>12f5d6e1cbf93dafd9dcc19095df0b3d</td>\n",
       "      <td>1</td>\n",
       "      <td>2017</td>\n",
       "      <td>4.428571</td>\n",
       "      <td>6</td>\n",
       "    </tr>\n",
       "    <tr>\n",
       "      <th>61254</th>\n",
       "      <td>a239b8e2fbce33780f1f1912e2ee5275</td>\n",
       "      <td>2</td>\n",
       "      <td>2017</td>\n",
       "      <td>4.000000</td>\n",
       "      <td>4</td>\n",
       "    </tr>\n",
       "    <tr>\n",
       "      <th>49855</th>\n",
       "      <td>83e7958a94bd7f74a9414d8782f87628</td>\n",
       "      <td>1</td>\n",
       "      <td>2017</td>\n",
       "      <td>4.428571</td>\n",
       "      <td>4</td>\n",
       "    </tr>\n",
       "    <tr>\n",
       "      <th>68342</th>\n",
       "      <td>b4e4f24de1e8725b74e4a1f4975116ed</td>\n",
       "      <td>2</td>\n",
       "      <td>2018</td>\n",
       "      <td>4.000000</td>\n",
       "      <td>4</td>\n",
       "    </tr>\n",
       "    <tr>\n",
       "      <th>14263</th>\n",
       "      <td>25a560b9a6006157838aab1bdbd68624</td>\n",
       "      <td>4</td>\n",
       "      <td>2017</td>\n",
       "      <td>4.285714</td>\n",
       "      <td>4</td>\n",
       "    </tr>\n",
       "  </tbody>\n",
       "</table>\n",
       "</div>"
      ],
      "text/plain": [
       "                     customer_unique_id  purchase_month  purchase_year  \\\n",
       "7214   12f5d6e1cbf93dafd9dcc19095df0b3d               1           2017   \n",
       "61254  a239b8e2fbce33780f1f1912e2ee5275               2           2017   \n",
       "49855  83e7958a94bd7f74a9414d8782f87628               1           2017   \n",
       "68342  b4e4f24de1e8725b74e4a1f4975116ed               2           2018   \n",
       "14263  25a560b9a6006157838aab1bdbd68624               4           2017   \n",
       "\n",
       "       weeks_in_month  order_quantity  \n",
       "7214         4.428571               6  \n",
       "61254        4.000000               4  \n",
       "49855        4.428571               4  \n",
       "68342        4.000000               4  \n",
       "14263        4.285714               4  "
      ]
     },
     "execution_count": 47,
     "metadata": {},
     "output_type": "execute_result"
    }
   ],
   "source": [
    "# Calculating the total number of purchases by a user per month\n",
    "weekly_purchase = purchase.groupby(['customer_unique_id','purchase_month','purchase_year','weeks_in_month'], as_index = False)\\\n",
    "                            .agg({'order_id':'count'})\\\n",
    "                            .rename(columns = {'order_id':'order_quantity'})\\\n",
    "                            .sort_values('order_quantity', ascending = False)\n",
    "weekly_purchase.head()"
   ]
  },
  {
   "cell_type": "code",
   "execution_count": 48,
   "metadata": {},
   "outputs": [],
   "source": [
    "# Dividing the total number of purchases in a month by the number of weeks in that month to obtain \n",
    "# the average number of purchases per week (in a specific month)\n",
    "weekly_purchase['avg_purchase_per_week'] = round(weekly_purchase.order_quantity / weekly_purchase.weeks_in_month,2)"
   ]
  },
  {
   "cell_type": "code",
   "execution_count": 49,
   "metadata": {},
   "outputs": [],
   "source": [
    "# Removing unnecessary columns \n",
    "weekly_avg_purchase = weekly_purchase.drop(['weeks_in_month','order_quantity'], axis = 1)"
   ]
  },
  {
   "cell_type": "code",
   "execution_count": 50,
   "metadata": {},
   "outputs": [],
   "source": [
    "# For example, let's find the user who made the most purchases on average per week in January 2017"
   ]
  },
  {
   "cell_type": "code",
   "execution_count": 51,
   "metadata": {
    "scrolled": false
   },
   "outputs": [
    {
     "data": {
      "text/html": [
       "<div>\n",
       "<style scoped>\n",
       "    .dataframe tbody tr th:only-of-type {\n",
       "        vertical-align: middle;\n",
       "    }\n",
       "\n",
       "    .dataframe tbody tr th {\n",
       "        vertical-align: top;\n",
       "    }\n",
       "\n",
       "    .dataframe thead th {\n",
       "        text-align: right;\n",
       "    }\n",
       "</style>\n",
       "<table border=\"1\" class=\"dataframe\">\n",
       "  <thead>\n",
       "    <tr style=\"text-align: right;\">\n",
       "      <th></th>\n",
       "      <th>customer_unique_id</th>\n",
       "      <th>purchase_month</th>\n",
       "      <th>purchase_year</th>\n",
       "      <th>avg_purchase_per_week</th>\n",
       "    </tr>\n",
       "  </thead>\n",
       "  <tbody>\n",
       "    <tr>\n",
       "      <th>7214</th>\n",
       "      <td>12f5d6e1cbf93dafd9dcc19095df0b3d</td>\n",
       "      <td>1</td>\n",
       "      <td>2017</td>\n",
       "      <td>1.35</td>\n",
       "    </tr>\n",
       "    <tr>\n",
       "      <th>49855</th>\n",
       "      <td>83e7958a94bd7f74a9414d8782f87628</td>\n",
       "      <td>1</td>\n",
       "      <td>2017</td>\n",
       "      <td>0.90</td>\n",
       "    </tr>\n",
       "    <tr>\n",
       "      <th>37151</th>\n",
       "      <td>6222ef69df52b4ed71be551725551cc0</td>\n",
       "      <td>1</td>\n",
       "      <td>2017</td>\n",
       "      <td>0.68</td>\n",
       "    </tr>\n",
       "    <tr>\n",
       "      <th>43332</th>\n",
       "      <td>728e4a7d0db4845270091ded0923c71f</td>\n",
       "      <td>1</td>\n",
       "      <td>2017</td>\n",
       "      <td>0.68</td>\n",
       "    </tr>\n",
       "    <tr>\n",
       "      <th>17521</th>\n",
       "      <td>2e43e031f10de28e557c35ef668f9396</td>\n",
       "      <td>1</td>\n",
       "      <td>2017</td>\n",
       "      <td>0.68</td>\n",
       "    </tr>\n",
       "  </tbody>\n",
       "</table>\n",
       "</div>"
      ],
      "text/plain": [
       "                     customer_unique_id  purchase_month  purchase_year  \\\n",
       "7214   12f5d6e1cbf93dafd9dcc19095df0b3d               1           2017   \n",
       "49855  83e7958a94bd7f74a9414d8782f87628               1           2017   \n",
       "37151  6222ef69df52b4ed71be551725551cc0               1           2017   \n",
       "43332  728e4a7d0db4845270091ded0923c71f               1           2017   \n",
       "17521  2e43e031f10de28e557c35ef668f9396               1           2017   \n",
       "\n",
       "       avg_purchase_per_week  \n",
       "7214                    1.35  \n",
       "49855                   0.90  \n",
       "37151                   0.68  \n",
       "43332                   0.68  \n",
       "17521                   0.68  "
      ]
     },
     "execution_count": 51,
     "metadata": {},
     "output_type": "execute_result"
    }
   ],
   "source": [
    "example = weekly_avg_purchase.query(\"purchase_month == 1 & purchase_year == 2017\")\\\n",
    "                            .sort_values('avg_purchase_per_week', ascending = False).head()\n",
    "example"
   ]
  },
  {
   "cell_type": "code",
   "execution_count": 52,
   "metadata": {},
   "outputs": [
    {
     "name": "stdout",
     "output_type": "stream",
     "text": [
      "In January 2017 User 12f5d6e1cbf93dafd9dcc19095df0b3d \n",
      "        made the most purchases on average per week\n"
     ]
    }
   ],
   "source": [
    "print(f'''In January 2017 User {example['customer_unique_id'].iloc[0]} \n",
    "        made the most purchases on average per week''')"
   ]
  },
  {
   "cell_type": "markdown",
   "metadata": {},
   "source": [
    "# Average Weekly Purchase Quantity for All Users Overall, by Month"
   ]
  },
  {
   "cell_type": "code",
   "execution_count": 53,
   "metadata": {},
   "outputs": [
    {
     "data": {
      "text/html": [
       "<div>\n",
       "<style scoped>\n",
       "    .dataframe tbody tr th:only-of-type {\n",
       "        vertical-align: middle;\n",
       "    }\n",
       "\n",
       "    .dataframe tbody tr th {\n",
       "        vertical-align: top;\n",
       "    }\n",
       "\n",
       "    .dataframe thead th {\n",
       "        text-align: right;\n",
       "    }\n",
       "</style>\n",
       "<table border=\"1\" class=\"dataframe\">\n",
       "  <thead>\n",
       "    <tr style=\"text-align: right;\">\n",
       "      <th></th>\n",
       "      <th>purchase_month</th>\n",
       "      <th>avg_purchase_per_week</th>\n",
       "    </tr>\n",
       "  </thead>\n",
       "  <tbody>\n",
       "    <tr>\n",
       "      <th>0</th>\n",
       "      <td>January</td>\n",
       "      <td>1826.55</td>\n",
       "    </tr>\n",
       "    <tr>\n",
       "      <th>1</th>\n",
       "      <td>February</td>\n",
       "      <td>2081.25</td>\n",
       "    </tr>\n",
       "    <tr>\n",
       "      <th>2</th>\n",
       "      <td>March</td>\n",
       "      <td>2243.29</td>\n",
       "    </tr>\n",
       "    <tr>\n",
       "      <th>3</th>\n",
       "      <td>April</td>\n",
       "      <td>2132.46</td>\n",
       "    </tr>\n",
       "    <tr>\n",
       "      <th>4</th>\n",
       "      <td>May</td>\n",
       "      <td>2398.34</td>\n",
       "    </tr>\n",
       "    <tr>\n",
       "      <th>5</th>\n",
       "      <td>June</td>\n",
       "      <td>2148.25</td>\n",
       "    </tr>\n",
       "    <tr>\n",
       "      <th>6</th>\n",
       "      <td>July</td>\n",
       "      <td>2335.25</td>\n",
       "    </tr>\n",
       "    <tr>\n",
       "      <th>7</th>\n",
       "      <td>August</td>\n",
       "      <td>2448.38</td>\n",
       "    </tr>\n",
       "    <tr>\n",
       "      <th>8</th>\n",
       "      <td>September</td>\n",
       "      <td>969.66</td>\n",
       "    </tr>\n",
       "    <tr>\n",
       "      <th>9</th>\n",
       "      <td>October</td>\n",
       "      <td>1104.72</td>\n",
       "    </tr>\n",
       "    <tr>\n",
       "      <th>10</th>\n",
       "      <td>November</td>\n",
       "      <td>1699.80</td>\n",
       "    </tr>\n",
       "    <tr>\n",
       "      <th>11</th>\n",
       "      <td>December</td>\n",
       "      <td>1288.75</td>\n",
       "    </tr>\n",
       "  </tbody>\n",
       "</table>\n",
       "</div>"
      ],
      "text/plain": [
       "   purchase_month  avg_purchase_per_week\n",
       "0         January                1826.55\n",
       "1        February                2081.25\n",
       "2           March                2243.29\n",
       "3           April                2132.46\n",
       "4             May                2398.34\n",
       "5            June                2148.25\n",
       "6            July                2335.25\n",
       "7          August                2448.38\n",
       "8       September                 969.66\n",
       "9         October                1104.72\n",
       "10       November                1699.80\n",
       "11       December                1288.75"
      ]
     },
     "execution_count": 53,
     "metadata": {},
     "output_type": "execute_result"
    }
   ],
   "source": [
    "all_users_avg_purchase_quantity = weekly_avg_purchase.groupby('purchase_month')\\\n",
    "                                                .agg({'avg_purchase_per_week':'sum'})\n",
    "\n",
    "all_users_avg_purchase_quantity.index = list(calendar.month_name)[1:]\n",
    "\n",
    "all_users_avg_purchase_quantity = all_users_avg_purchase_quantity.reset_index()\\\n",
    "                                    .rename(columns = {'index':'purchase_month'})\n",
    "all_users_avg_purchase_quantity"
   ]
  },
  {
   "cell_type": "code",
   "execution_count": 54,
   "metadata": {},
   "outputs": [
    {
     "data": {
      "text/plain": [
       "Text(0.5, 1.0, 'Average Weekly Purchase Quantity for All Users Overall, by Month')"
      ]
     },
     "execution_count": 54,
     "metadata": {},
     "output_type": "execute_result"
    },
    {
     "data": {
      "image/png": "[encoded data removed]",
      "text/plain": [
       "<Figure size 1008x432 with 1 Axes>"
      ]
     },
     "metadata": {
      "needs_background": "light"
     },
     "output_type": "display_data"
    }
   ],
   "source": [
    "plt.figure(figsize=(14, 6))\n",
    "sns.barplot(x='purchase_month', y='avg_purchase_per_week', data=all_users_avg_purchase_quantity)\n",
    "plt.xlabel('Month')\n",
    "plt.ylabel('Average Purchase Number')\n",
    "plt.title('Average Weekly Purchase Quantity for All Users Overall, by Month')"
   ]
  },
  {
   "cell_type": "markdown",
   "metadata": {},
   "source": [
    "# Retention. Cohort Analysis. "
   ]
  },
  {
   "cell_type": "code",
   "execution_count": 55,
   "metadata": {},
   "outputs": [],
   "source": [
    "# Determining the first order date for each customer\n",
    "first_order = purchase.groupby('customer_unique_id', as_index = False)\\\n",
    "                        .agg({'order_purchase_timestamp':'min'})\\\n",
    "                        .rename(columns = {'order_purchase_timestamp':'first_order_date'})\n",
    "# Labeling cohorts by months\n",
    "first_order['cohort'] = first_order['first_order_date'].dt.to_period('M')"
   ]
  },
  {
   "cell_type": "code",
   "execution_count": 56,
   "metadata": {},
   "outputs": [
    {
     "data": {
      "text/html": [
       "<div>\n",
       "<style scoped>\n",
       "    .dataframe tbody tr th:only-of-type {\n",
       "        vertical-align: middle;\n",
       "    }\n",
       "\n",
       "    .dataframe tbody tr th {\n",
       "        vertical-align: top;\n",
       "    }\n",
       "\n",
       "    .dataframe thead th {\n",
       "        text-align: right;\n",
       "    }\n",
       "</style>\n",
       "<table border=\"1\" class=\"dataframe\">\n",
       "  <thead>\n",
       "    <tr style=\"text-align: right;\">\n",
       "      <th></th>\n",
       "      <th>customer_unique_id</th>\n",
       "      <th>first_order_date</th>\n",
       "      <th>cohort</th>\n",
       "    </tr>\n",
       "  </thead>\n",
       "  <tbody>\n",
       "    <tr>\n",
       "      <th>0</th>\n",
       "      <td>0000366f3b9a7992bf8c76cfdf3221e2</td>\n",
       "      <td>2018-05-10 10:56:27</td>\n",
       "      <td>2018-05</td>\n",
       "    </tr>\n",
       "    <tr>\n",
       "      <th>1</th>\n",
       "      <td>0000b849f77a49e4a4ce2b2a4ca5be3f</td>\n",
       "      <td>2018-05-07 11:11:27</td>\n",
       "      <td>2018-05</td>\n",
       "    </tr>\n",
       "    <tr>\n",
       "      <th>2</th>\n",
       "      <td>0000f46a3911fa3c0805444483337064</td>\n",
       "      <td>2017-03-10 21:05:03</td>\n",
       "      <td>2017-03</td>\n",
       "    </tr>\n",
       "    <tr>\n",
       "      <th>3</th>\n",
       "      <td>0000f6ccb0745a6a4b88665a16c9f078</td>\n",
       "      <td>2017-10-12 20:29:41</td>\n",
       "      <td>2017-10</td>\n",
       "    </tr>\n",
       "    <tr>\n",
       "      <th>4</th>\n",
       "      <td>0004aac84e0df4da2b147fca70cf8255</td>\n",
       "      <td>2017-11-14 19:45:42</td>\n",
       "      <td>2017-11</td>\n",
       "    </tr>\n",
       "  </tbody>\n",
       "</table>\n",
       "</div>"
      ],
      "text/plain": [
       "                 customer_unique_id    first_order_date   cohort\n",
       "0  0000366f3b9a7992bf8c76cfdf3221e2 2018-05-10 10:56:27  2018-05\n",
       "1  0000b849f77a49e4a4ce2b2a4ca5be3f 2018-05-07 11:11:27  2018-05\n",
       "2  0000f46a3911fa3c0805444483337064 2017-03-10 21:05:03  2017-03\n",
       "3  0000f6ccb0745a6a4b88665a16c9f078 2017-10-12 20:29:41  2017-10\n",
       "4  0004aac84e0df4da2b147fca70cf8255 2017-11-14 19:45:42  2017-11"
      ]
     },
     "execution_count": 56,
     "metadata": {},
     "output_type": "execute_result"
    }
   ],
   "source": [
    "first_order.head()"
   ]
  },
  {
   "cell_type": "code",
   "execution_count": 57,
   "metadata": {},
   "outputs": [],
   "source": [
    "# Adding information about the first order date and cohorts to the purchase df\n",
    "purchase = purchase.merge(first_order, how = 'left', on = 'customer_unique_id')"
   ]
  },
  {
   "cell_type": "code",
   "execution_count": 58,
   "metadata": {},
   "outputs": [
    {
     "data": {
      "text/plain": [
       "2.86"
      ]
     },
     "execution_count": 58,
     "metadata": {},
     "output_type": "execute_result"
    }
   ],
   "source": [
    "# Calculating the number of days from the first order to next ones\n",
    "\n",
    "purchase['days_past_since_first_order'] = (purchase.order_purchase_timestamp - purchase.first_order_date).dt.days\n",
    "avg_days_to_new_order = purchase['days_past_since_first_order'].mean().round(2)\n",
    "avg_days_to_new_order"
   ]
  },
  {
   "cell_type": "code",
   "execution_count": 59,
   "metadata": {},
   "outputs": [],
   "source": [
    "# Creating a column with information about timestamps 1 and 2 months after the first order\n",
    "purchase['second_month'] = purchase['first_order_date'] + pd.DateOffset(months=1)\n",
    "purchase['third_month'] = purchase['first_order_date'] + pd.DateOffset(months=2)"
   ]
  },
  {
   "cell_type": "code",
   "execution_count": 60,
   "metadata": {},
   "outputs": [],
   "source": [
    "# Counting the number of orders in the first month for each cohort\n",
    "cohorts_first_month = purchase.query(\"order_purchase_timestamp == first_order_date\")\\\n",
    "                                .groupby('cohort', as_index = False)\\\n",
    "                                .agg({'customer_unique_id':'count'})\\\n",
    "                                .rename(columns = {'customer_unique_id':'1st_month_active_users_count'})"
   ]
  },
  {
   "cell_type": "code",
   "execution_count": 61,
   "metadata": {},
   "outputs": [],
   "source": [
    "# Counting the number of orders in the second month for each cohort\n",
    "cohorts_second_month = purchase.query(\"first_order_date < order_purchase_timestamp <= second_month\")\\\n",
    "                                .groupby('cohort', as_index = False)\\\n",
    "                                .agg({'customer_unique_id':'count'})\\\n",
    "                                .rename(columns = {'customer_unique_id':'2nd_month_active_users_count'})"
   ]
  },
  {
   "cell_type": "code",
   "execution_count": 62,
   "metadata": {},
   "outputs": [],
   "source": [
    "# Counting the number of orders in the third month for each cohort\n",
    "cohorts_third_month = purchase.query(\"second_month < order_purchase_timestamp <= third_month\")\\\n",
    "                                .groupby('cohort', as_index = False)\\\n",
    "                                .agg({'customer_unique_id':'count'})\\\n",
    "                                .rename(columns = {'customer_unique_id':'3rd_month_active_users_count'})"
   ]
  },
  {
   "cell_type": "code",
   "execution_count": 63,
   "metadata": {},
   "outputs": [
    {
     "data": {
      "text/html": [
       "<div>\n",
       "<style scoped>\n",
       "    .dataframe tbody tr th:only-of-type {\n",
       "        vertical-align: middle;\n",
       "    }\n",
       "\n",
       "    .dataframe tbody tr th {\n",
       "        vertical-align: top;\n",
       "    }\n",
       "\n",
       "    .dataframe thead th {\n",
       "        text-align: right;\n",
       "    }\n",
       "</style>\n",
       "<table border=\"1\" class=\"dataframe\">\n",
       "  <thead>\n",
       "    <tr style=\"text-align: right;\">\n",
       "      <th></th>\n",
       "      <th>cohort</th>\n",
       "      <th>1st_month_active_users_count</th>\n",
       "      <th>2nd_month_active_users_count</th>\n",
       "      <th>3rd_month_active_users_count</th>\n",
       "    </tr>\n",
       "  </thead>\n",
       "  <tbody>\n",
       "    <tr>\n",
       "      <th>0</th>\n",
       "      <td>2016-09</td>\n",
       "      <td>2</td>\n",
       "      <td>0.0</td>\n",
       "      <td>0.0</td>\n",
       "    </tr>\n",
       "    <tr>\n",
       "      <th>1</th>\n",
       "      <td>2016-10</td>\n",
       "      <td>272</td>\n",
       "      <td>3.0</td>\n",
       "      <td>0.0</td>\n",
       "    </tr>\n",
       "    <tr>\n",
       "      <th>2</th>\n",
       "      <td>2016-12</td>\n",
       "      <td>1</td>\n",
       "      <td>1.0</td>\n",
       "      <td>0.0</td>\n",
       "    </tr>\n",
       "    <tr>\n",
       "      <th>3</th>\n",
       "      <td>2017-01</td>\n",
       "      <td>746</td>\n",
       "      <td>30.0</td>\n",
       "      <td>3.0</td>\n",
       "    </tr>\n",
       "    <tr>\n",
       "      <th>4</th>\n",
       "      <td>2017-02</td>\n",
       "      <td>1682</td>\n",
       "      <td>25.0</td>\n",
       "      <td>3.0</td>\n",
       "    </tr>\n",
       "    <tr>\n",
       "      <th>5</th>\n",
       "      <td>2017-03</td>\n",
       "      <td>2574</td>\n",
       "      <td>44.0</td>\n",
       "      <td>7.0</td>\n",
       "    </tr>\n",
       "    <tr>\n",
       "      <th>6</th>\n",
       "      <td>2017-04</td>\n",
       "      <td>2317</td>\n",
       "      <td>35.0</td>\n",
       "      <td>10.0</td>\n",
       "    </tr>\n",
       "    <tr>\n",
       "      <th>7</th>\n",
       "      <td>2017-05</td>\n",
       "      <td>3542</td>\n",
       "      <td>64.0</td>\n",
       "      <td>16.0</td>\n",
       "    </tr>\n",
       "    <tr>\n",
       "      <th>8</th>\n",
       "      <td>2017-06</td>\n",
       "      <td>3103</td>\n",
       "      <td>52.0</td>\n",
       "      <td>13.0</td>\n",
       "    </tr>\n",
       "    <tr>\n",
       "      <th>9</th>\n",
       "      <td>2017-07</td>\n",
       "      <td>3832</td>\n",
       "      <td>70.0</td>\n",
       "      <td>14.0</td>\n",
       "    </tr>\n",
       "    <tr>\n",
       "      <th>10</th>\n",
       "      <td>2017-08</td>\n",
       "      <td>4133</td>\n",
       "      <td>66.0</td>\n",
       "      <td>27.0</td>\n",
       "    </tr>\n",
       "    <tr>\n",
       "      <th>11</th>\n",
       "      <td>2017-09</td>\n",
       "      <td>4076</td>\n",
       "      <td>72.0</td>\n",
       "      <td>20.0</td>\n",
       "    </tr>\n",
       "    <tr>\n",
       "      <th>12</th>\n",
       "      <td>2017-10</td>\n",
       "      <td>4389</td>\n",
       "      <td>63.0</td>\n",
       "      <td>27.0</td>\n",
       "    </tr>\n",
       "    <tr>\n",
       "      <th>13</th>\n",
       "      <td>2017-11</td>\n",
       "      <td>7178</td>\n",
       "      <td>109.0</td>\n",
       "      <td>28.0</td>\n",
       "    </tr>\n",
       "    <tr>\n",
       "      <th>14</th>\n",
       "      <td>2017-12</td>\n",
       "      <td>5440</td>\n",
       "      <td>50.0</td>\n",
       "      <td>16.0</td>\n",
       "    </tr>\n",
       "    <tr>\n",
       "      <th>15</th>\n",
       "      <td>2018-01</td>\n",
       "      <td>6956</td>\n",
       "      <td>91.0</td>\n",
       "      <td>22.0</td>\n",
       "    </tr>\n",
       "    <tr>\n",
       "      <th>16</th>\n",
       "      <td>2018-02</td>\n",
       "      <td>6377</td>\n",
       "      <td>133.0</td>\n",
       "      <td>24.0</td>\n",
       "    </tr>\n",
       "    <tr>\n",
       "      <th>17</th>\n",
       "      <td>2018-03</td>\n",
       "      <td>6930</td>\n",
       "      <td>85.0</td>\n",
       "      <td>28.0</td>\n",
       "    </tr>\n",
       "    <tr>\n",
       "      <th>18</th>\n",
       "      <td>2018-04</td>\n",
       "      <td>6693</td>\n",
       "      <td>69.0</td>\n",
       "      <td>31.0</td>\n",
       "    </tr>\n",
       "    <tr>\n",
       "      <th>19</th>\n",
       "      <td>2018-05</td>\n",
       "      <td>6566</td>\n",
       "      <td>69.0</td>\n",
       "      <td>19.0</td>\n",
       "    </tr>\n",
       "    <tr>\n",
       "      <th>20</th>\n",
       "      <td>2018-06</td>\n",
       "      <td>5929</td>\n",
       "      <td>35.0</td>\n",
       "      <td>22.0</td>\n",
       "    </tr>\n",
       "    <tr>\n",
       "      <th>21</th>\n",
       "      <td>2018-07</td>\n",
       "      <td>6028</td>\n",
       "      <td>60.0</td>\n",
       "      <td>6.0</td>\n",
       "    </tr>\n",
       "    <tr>\n",
       "      <th>22</th>\n",
       "      <td>2018-08</td>\n",
       "      <td>6192</td>\n",
       "      <td>32.0</td>\n",
       "      <td>0.0</td>\n",
       "    </tr>\n",
       "  </tbody>\n",
       "</table>\n",
       "</div>"
      ],
      "text/plain": [
       "     cohort  1st_month_active_users_count  2nd_month_active_users_count  \\\n",
       "0   2016-09                             2                           0.0   \n",
       "1   2016-10                           272                           3.0   \n",
       "2   2016-12                             1                           1.0   \n",
       "3   2017-01                           746                          30.0   \n",
       "4   2017-02                          1682                          25.0   \n",
       "5   2017-03                          2574                          44.0   \n",
       "6   2017-04                          2317                          35.0   \n",
       "7   2017-05                          3542                          64.0   \n",
       "8   2017-06                          3103                          52.0   \n",
       "9   2017-07                          3832                          70.0   \n",
       "10  2017-08                          4133                          66.0   \n",
       "11  2017-09                          4076                          72.0   \n",
       "12  2017-10                          4389                          63.0   \n",
       "13  2017-11                          7178                         109.0   \n",
       "14  2017-12                          5440                          50.0   \n",
       "15  2018-01                          6956                          91.0   \n",
       "16  2018-02                          6377                         133.0   \n",
       "17  2018-03                          6930                          85.0   \n",
       "18  2018-04                          6693                          69.0   \n",
       "19  2018-05                          6566                          69.0   \n",
       "20  2018-06                          5929                          35.0   \n",
       "21  2018-07                          6028                          60.0   \n",
       "22  2018-08                          6192                          32.0   \n",
       "\n",
       "    3rd_month_active_users_count  \n",
       "0                            0.0  \n",
       "1                            0.0  \n",
       "2                            0.0  \n",
       "3                            3.0  \n",
       "4                            3.0  \n",
       "5                            7.0  \n",
       "6                           10.0  \n",
       "7                           16.0  \n",
       "8                           13.0  \n",
       "9                           14.0  \n",
       "10                          27.0  \n",
       "11                          20.0  \n",
       "12                          27.0  \n",
       "13                          28.0  \n",
       "14                          16.0  \n",
       "15                          22.0  \n",
       "16                          24.0  \n",
       "17                          28.0  \n",
       "18                          31.0  \n",
       "19                          19.0  \n",
       "20                          22.0  \n",
       "21                           6.0  \n",
       "22                           0.0  "
      ]
     },
     "execution_count": 63,
     "metadata": {},
     "output_type": "execute_result"
    }
   ],
   "source": [
    "# Combining dataframes with information on the number of users in the 1st, 2nd, and 3rd months for each cohort\n",
    "all_cohorts_df = cohorts_first_month.merge(cohorts_second_month, how = 'left', on = 'cohort')\\\n",
    "                                            .merge(cohorts_third_month, how = 'left', on = 'cohort')\\\n",
    "                                            .fillna(0)\n",
    "\n",
    "all_cohorts_df"
   ]
  },
  {
   "cell_type": "code",
   "execution_count": 64,
   "metadata": {
    "scrolled": true
   },
   "outputs": [],
   "source": [
    "month_columns = ['1st_month_active_users_count','2nd_month_active_users_count','3rd_month_active_users_count']\n",
    "month_columns_percentage = ['1st_month_active_users_%','2nd_month_active_users_%','3rd_month_active_users_%']\n",
    "dict_columns = dict(zip(month_columns, month_columns_percentage))\n",
    "\n",
    "retention_rate = all_cohorts_df\n",
    "\n",
    "retention_rate[month_columns] = retention_rate[month_columns]\\\n",
    "                                .apply(lambda x: (x / retention_rate[month_columns[0]] * 100))\\\n",
    "                                .round(2)\n",
    "retention_rate = retention_rate.set_index('cohort').rename(columns = dict_columns)"
   ]
  },
  {
   "cell_type": "code",
   "execution_count": 65,
   "metadata": {
    "scrolled": false
   },
   "outputs": [
    {
     "data": {
      "image/png": "[encoded data removed]",
      "text/plain": [
       "<Figure size 864x576 with 2 Axes>"
      ]
     },
     "metadata": {
      "needs_background": "light"
     },
     "output_type": "display_data"
    }
   ],
   "source": [
    "plt.figure(figsize=(12, 8))\n",
    "sns.heatmap(data = retention_rate, annot=True, fmt=\".2f\", cmap=\"YlGnBu\")\n",
    "plt.title(\"Retention Rate Heatmap\")\n",
    "plt.show()"
   ]
  },
  {
   "cell_type": "code",
   "execution_count": 66,
   "metadata": {},
   "outputs": [],
   "source": [
    "# Getting the index with the maximum retention rate for the third month\n",
    "max_retention_index = retention_rate['3rd_month_active_users_%'].idxmax()\n",
    "\n",
    "# Maximum retention rate for the third month\n",
    "max_retention = round(retention_rate.loc[max_retention_index, '3rd_month_active_users_%'], 2) "
   ]
  },
  {
   "cell_type": "code",
   "execution_count": 67,
   "metadata": {},
   "outputs": [
    {
     "name": "stdout",
     "output_type": "stream",
     "text": [
      "The cohort with the highest retention rate in the third month is - 2017-08,\n",
      "retention rate = 0.65%.\n"
     ]
    }
   ],
   "source": [
    "print (f'''The cohort with the highest retention rate in the third month is - {max_retention_index},\n",
    "retention rate = {max_retention}%.''')"
   ]
  },
  {
   "cell_type": "markdown",
   "metadata": {},
   "source": [
    "# RFM segmentation"
   ]
  },
  {
   "cell_type": "code",
   "execution_count": 68,
   "metadata": {},
   "outputs": [],
   "source": [
    "full_df = items_info.merge(purchase, how = 'left', on = 'order_id')"
   ]
  },
  {
   "cell_type": "code",
   "execution_count": 69,
   "metadata": {},
   "outputs": [
    {
     "data": {
      "text/plain": [
       "1     98666\n",
       "2      9803\n",
       "3      2287\n",
       "4       965\n",
       "5       460\n",
       "6       256\n",
       "7        58\n",
       "8        36\n",
       "9        28\n",
       "10       25\n",
       "11       17\n",
       "12       13\n",
       "13        8\n",
       "14        7\n",
       "15        5\n",
       "20        3\n",
       "16        3\n",
       "17        3\n",
       "18        3\n",
       "19        3\n",
       "21        1\n",
       "Name: order_item_id, dtype: int64"
      ]
     },
     "execution_count": 69,
     "metadata": {},
     "output_type": "execute_result"
    }
   ],
   "source": [
    "# Number of orders with a specific quantity of items within a single order\n",
    "full_df.order_item_id.value_counts()"
   ]
  },
  {
   "cell_type": "code",
   "execution_count": 70,
   "metadata": {},
   "outputs": [
    {
     "name": "stdout",
     "output_type": "stream",
     "text": [
      "Orders from 2016-09-04 21:15:19 to 2018-09-03 09:06:57.\n"
     ]
    }
   ],
   "source": [
    "# Information about the complete period of orders\n",
    "date_min = full_df['order_purchase_timestamp'].min()\n",
    "date_max = full_df['order_purchase_timestamp'].max()\n",
    "print(f'Orders from {date_min} to {date_max}.')"
   ]
  },
  {
   "cell_type": "code",
   "execution_count": 71,
   "metadata": {},
   "outputs": [],
   "source": [
    "full_df['full_cost'] = full_df.order_item_id * full_df.price"
   ]
  },
  {
   "cell_type": "code",
   "execution_count": 72,
   "metadata": {
    "scrolled": false
   },
   "outputs": [
    {
     "data": {
      "text/html": [
       "<div>\n",
       "<style scoped>\n",
       "    .dataframe tbody tr th:only-of-type {\n",
       "        vertical-align: middle;\n",
       "    }\n",
       "\n",
       "    .dataframe tbody tr th {\n",
       "        vertical-align: top;\n",
       "    }\n",
       "\n",
       "    .dataframe thead th {\n",
       "        text-align: right;\n",
       "    }\n",
       "</style>\n",
       "<table border=\"1\" class=\"dataframe\">\n",
       "  <thead>\n",
       "    <tr style=\"text-align: right;\">\n",
       "      <th></th>\n",
       "      <th>customer_unique_id</th>\n",
       "      <th>order_purchase_timestamp</th>\n",
       "      <th>full_cost</th>\n",
       "    </tr>\n",
       "  </thead>\n",
       "  <tbody>\n",
       "    <tr>\n",
       "      <th>0</th>\n",
       "      <td>0000366f3b9a7992bf8c76cfdf3221e2</td>\n",
       "      <td>2018-05-10 10:56:27</td>\n",
       "      <td>129.90</td>\n",
       "    </tr>\n",
       "    <tr>\n",
       "      <th>1</th>\n",
       "      <td>0000b849f77a49e4a4ce2b2a4ca5be3f</td>\n",
       "      <td>2018-05-07 11:11:27</td>\n",
       "      <td>18.90</td>\n",
       "    </tr>\n",
       "    <tr>\n",
       "      <th>2</th>\n",
       "      <td>0000f46a3911fa3c0805444483337064</td>\n",
       "      <td>2017-03-10 21:05:03</td>\n",
       "      <td>69.00</td>\n",
       "    </tr>\n",
       "    <tr>\n",
       "      <th>3</th>\n",
       "      <td>0000f6ccb0745a6a4b88665a16c9f078</td>\n",
       "      <td>2017-10-12 20:29:41</td>\n",
       "      <td>25.99</td>\n",
       "    </tr>\n",
       "    <tr>\n",
       "      <th>4</th>\n",
       "      <td>0004aac84e0df4da2b147fca70cf8255</td>\n",
       "      <td>2017-11-14 19:45:42</td>\n",
       "      <td>180.00</td>\n",
       "    </tr>\n",
       "    <tr>\n",
       "      <th>...</th>\n",
       "      <td>...</td>\n",
       "      <td>...</td>\n",
       "      <td>...</td>\n",
       "    </tr>\n",
       "    <tr>\n",
       "      <th>97600</th>\n",
       "      <td>fffcf5a5ff07b0908bd4e2dbc735a684</td>\n",
       "      <td>2017-06-08 21:00:36</td>\n",
       "      <td>2250.00</td>\n",
       "    </tr>\n",
       "    <tr>\n",
       "      <th>97601</th>\n",
       "      <td>fffea47cd6d3cc0a88bd621562a9d061</td>\n",
       "      <td>2017-12-10 20:07:56</td>\n",
       "      <td>64.89</td>\n",
       "    </tr>\n",
       "    <tr>\n",
       "      <th>97602</th>\n",
       "      <td>ffff371b4d645b6ecea244b27531430a</td>\n",
       "      <td>2017-02-07 15:49:16</td>\n",
       "      <td>89.90</td>\n",
       "    </tr>\n",
       "    <tr>\n",
       "      <th>97603</th>\n",
       "      <td>ffff5962728ec6157033ef9805bacc48</td>\n",
       "      <td>2018-05-02 15:17:41</td>\n",
       "      <td>115.00</td>\n",
       "    </tr>\n",
       "    <tr>\n",
       "      <th>97604</th>\n",
       "      <td>ffffd2657e2aad2907e67c3e9daecbeb</td>\n",
       "      <td>2017-05-02 20:18:45</td>\n",
       "      <td>56.99</td>\n",
       "    </tr>\n",
       "  </tbody>\n",
       "</table>\n",
       "<p>97605 rows × 3 columns</p>\n",
       "</div>"
      ],
      "text/plain": [
       "                     customer_unique_id order_purchase_timestamp  full_cost\n",
       "0      0000366f3b9a7992bf8c76cfdf3221e2      2018-05-10 10:56:27     129.90\n",
       "1      0000b849f77a49e4a4ce2b2a4ca5be3f      2018-05-07 11:11:27      18.90\n",
       "2      0000f46a3911fa3c0805444483337064      2017-03-10 21:05:03      69.00\n",
       "3      0000f6ccb0745a6a4b88665a16c9f078      2017-10-12 20:29:41      25.99\n",
       "4      0004aac84e0df4da2b147fca70cf8255      2017-11-14 19:45:42     180.00\n",
       "...                                 ...                      ...        ...\n",
       "97600  fffcf5a5ff07b0908bd4e2dbc735a684      2017-06-08 21:00:36    2250.00\n",
       "97601  fffea47cd6d3cc0a88bd621562a9d061      2017-12-10 20:07:56      64.89\n",
       "97602  ffff371b4d645b6ecea244b27531430a      2017-02-07 15:49:16      89.90\n",
       "97603  ffff5962728ec6157033ef9805bacc48      2018-05-02 15:17:41     115.00\n",
       "97604  ffffd2657e2aad2907e67c3e9daecbeb      2017-05-02 20:18:45      56.99\n",
       "\n",
       "[97605 rows x 3 columns]"
      ]
     },
     "execution_count": 72,
     "metadata": {},
     "output_type": "execute_result"
    }
   ],
   "source": [
    "# Grouping by customer ID and order time, calculating the revenue per user\n",
    "customers_purchases_by_time = full_df.groupby(['customer_unique_id', 'order_purchase_timestamp'], as_index = False)\\\n",
    "                                    .agg({'full_cost':'sum'})\n",
    "customers_purchases_by_time"
   ]
  },
  {
   "cell_type": "code",
   "execution_count": 74,
   "metadata": {},
   "outputs": [],
   "source": [
    "# Calculating the duration in days since the order was made\n",
    "customers_purchases_by_time['days_since_order'] = customers_purchases_by_time['order_purchase_timestamp']\\\n",
    "                                                .apply(lambda x: (date_max - x).days)"
   ]
  },
  {
   "cell_type": "code",
   "execution_count": 78,
   "metadata": {},
   "outputs": [],
   "source": [
    "# DataFrame with information on Frequency, i.e., how many orders per unique user were made\n",
    "Frequency = customers_purchases_by_time.groupby('customer_unique_id', as_index = False)\\\n",
    "                                        .agg({'order_purchase_timestamp': 'count'})\\\n",
    "                                        .rename(columns={'order_purchase_timestamp': 'Frequency'})\\\n",
    "                                        .sort_values('Frequency', ascending = False)"
   ]
  },
  {
   "cell_type": "code",
   "execution_count": 79,
   "metadata": {},
   "outputs": [],
   "source": [
    "# DataFrame with information on Recency, i.e., how many days have passed since the last order for each user\n",
    "Recency = customers_purchases_by_time.groupby('customer_unique_id', as_index = False)\\\n",
    "                                    .agg({'days_since_order':'min'})\\\n",
    "                                    .rename(columns={'days_since_order': 'Recency'})"
   ]
  },
  {
   "cell_type": "code",
   "execution_count": 80,
   "metadata": {},
   "outputs": [],
   "source": [
    "# DataFrame with information on Monetary, i.e., the total amount spent by each user\n",
    "Monetary = customers_purchases_by_time.groupby('customer_unique_id', as_index = False)\\\n",
    "                                    .agg({'full_cost':'sum'})\\\n",
    "                                    .rename(columns={'full_cost': 'Monetary'})"
   ]
  },
  {
   "cell_type": "code",
   "execution_count": 81,
   "metadata": {},
   "outputs": [],
   "source": [
    "# Merging the Recency, Frequency, and Monetary dataframes into a unified RFM dataframe\n",
    "RFM = Recency.merge(Frequency, on = 'customer_unique_id').merge(Monetary, on = 'customer_unique_id').fillna(0)"
   ]
  },
  {
   "cell_type": "code",
   "execution_count": 84,
   "metadata": {},
   "outputs": [
    {
     "data": {
      "text/plain": [
       "{'Recency': {0.2: 97.0, 0.4: 181.0, 0.6: 272.0, 0.8: 387.0},\n",
       " 'Monetary': {0.2: 39.9, 0.4: 69.9, 0.6: 115.0, 0.8: 195.9}}"
      ]
     },
     "execution_count": 84,
     "metadata": {},
     "output_type": "execute_result"
    }
   ],
   "source": [
    "# Calculating quantile values for ranking in 'Recency' and 'Monetary\n",
    "quintiles = RFM[['Recency', 'Monetary']].quantile([.2, .4, .6, .8]).to_dict()\n",
    "quintiles"
   ]
  },
  {
   "cell_type": "code",
   "execution_count": 85,
   "metadata": {
    "scrolled": true
   },
   "outputs": [
    {
     "data": {
      "text/plain": [
       "1     92064\n",
       "2      2416\n",
       "3       161\n",
       "4        29\n",
       "5         8\n",
       "6         4\n",
       "7         3\n",
       "16        1\n",
       "9         1\n",
       "Name: Frequency, dtype: int64"
      ]
     },
     "execution_count": 85,
     "metadata": {},
     "output_type": "execute_result"
    }
   ],
   "source": [
    "# Verifying Frequency since the value is 1 at all specified quantiles\n",
    "Frequency.Frequency.value_counts()"
   ]
  },
  {
   "cell_type": "code",
   "execution_count": 87,
   "metadata": {},
   "outputs": [],
   "source": [
    "# Indeed, too many values with only one purchase were obtained (as obtained from the first step, this \n",
    "# constitutes 97% of all purchases). Since all parameters are evaluated on a scale from 1 to 5, 5 intervals \n",
    "# are needed, which are defined with four quantile values. For the selected quantiles [.2, .4, .6, .8], \n",
    "# the Frequency values are distributed uniformly with a value of 1. This is not suitable because there will be \n",
    "# no difference in ranks. Therefore, absolute values from Frequency.value_counts [1, 2, 3, 4] will have to be used, \n",
    "# where 1 is considered poor, and 4 indicates at least 4 repeat purchases, which is considered good"
   ]
  },
  {
   "cell_type": "code",
   "execution_count": 88,
   "metadata": {},
   "outputs": [],
   "source": [
    "# Ranking assignment for 'Recency', 'Frequency', 'Monetary'. \n",
    "\n",
    "# In the case of Recency, the lower the value, the better, as it indicates that the purchase was made recently\n",
    "def r_score(x):\n",
    "    if x <= quintiles['Recency'][.2]:\n",
    "        return 5\n",
    "    elif x <= quintiles['Recency'][.4]:\n",
    "        return 4\n",
    "    elif x <= quintiles['Recency'][.6]:\n",
    "        return 3\n",
    "    elif x <= quintiles['Recency'][.8]:\n",
    "        return 2\n",
    "    else:\n",
    "        return 1\n",
    "    \n",
    "# In the case of Frequency, the higher the value, the better, as it indicates that the person makes frequent \n",
    "# repeat purchases\n",
    "def f_score(x):\n",
    "    if x <= 1:\n",
    "        return 1\n",
    "    elif x <= 2:\n",
    "        return 2\n",
    "    elif x <= 3:\n",
    "        return 3\n",
    "    elif x <= 4:\n",
    "        return 4\n",
    "    else:\n",
    "        return 5  \n",
    "# In the case of Monetary, the higher the value, the better, as it indicates that the person spends more \n",
    "# money on purchases\n",
    "def m_score(x):\n",
    "    if x <= quintiles['Monetary'][.2]:\n",
    "        return 1\n",
    "    elif x <= quintiles['Monetary'][.4]:\n",
    "        return 2\n",
    "    elif x <= quintiles['Monetary'][.6]:\n",
    "        return 3\n",
    "    elif x <= quintiles['Monetary'][.8]:\n",
    "        return 4\n",
    "    else:\n",
    "        return 5    "
   ]
  },
  {
   "cell_type": "code",
   "execution_count": 89,
   "metadata": {},
   "outputs": [],
   "source": [
    "# Creating columns 'R', 'F', 'M' with the ranks for 'Recency', 'Frequency', 'Monetary'\n",
    "RFM['R'] = RFM['Recency'].apply(lambda x: r_score(x))\n",
    "RFM['F'] = RFM['Frequency'].apply(lambda x: f_score(x))\n",
    "RFM['M'] = RFM['Monetary'].apply(lambda x: m_score(x))"
   ]
  },
  {
   "cell_type": "code",
   "execution_count": 90,
   "metadata": {},
   "outputs": [],
   "source": [
    "# Concatenation of ranks for the RFM_segment column with RFM segments\n",
    "RFM['RFM_segment'] = RFM['R'].map(str) + RFM['F'].map(str) + RFM['M'].map(str)"
   ]
  },
  {
   "cell_type": "code",
   "execution_count": 91,
   "metadata": {},
   "outputs": [
    {
     "data": {
      "text/html": [
       "<div>\n",
       "<style scoped>\n",
       "    .dataframe tbody tr th:only-of-type {\n",
       "        vertical-align: middle;\n",
       "    }\n",
       "\n",
       "    .dataframe tbody tr th {\n",
       "        vertical-align: top;\n",
       "    }\n",
       "\n",
       "    .dataframe thead th {\n",
       "        text-align: right;\n",
       "    }\n",
       "</style>\n",
       "<table border=\"1\" class=\"dataframe\">\n",
       "  <thead>\n",
       "    <tr style=\"text-align: right;\">\n",
       "      <th></th>\n",
       "      <th>customer_unique_id</th>\n",
       "      <th>Recency</th>\n",
       "      <th>Frequency</th>\n",
       "      <th>Monetary</th>\n",
       "      <th>R</th>\n",
       "      <th>F</th>\n",
       "      <th>M</th>\n",
       "      <th>RFM_segment</th>\n",
       "      <th>Segment</th>\n",
       "    </tr>\n",
       "  </thead>\n",
       "  <tbody>\n",
       "    <tr>\n",
       "      <th>0</th>\n",
       "      <td>0000366f3b9a7992bf8c76cfdf3221e2</td>\n",
       "      <td>115</td>\n",
       "      <td>1</td>\n",
       "      <td>129.90</td>\n",
       "      <td>4</td>\n",
       "      <td>1</td>\n",
       "      <td>4</td>\n",
       "      <td>414</td>\n",
       "      <td>new customers</td>\n",
       "    </tr>\n",
       "    <tr>\n",
       "      <th>1</th>\n",
       "      <td>0000b849f77a49e4a4ce2b2a4ca5be3f</td>\n",
       "      <td>118</td>\n",
       "      <td>1</td>\n",
       "      <td>18.90</td>\n",
       "      <td>4</td>\n",
       "      <td>1</td>\n",
       "      <td>1</td>\n",
       "      <td>411</td>\n",
       "      <td>new customers</td>\n",
       "    </tr>\n",
       "    <tr>\n",
       "      <th>2</th>\n",
       "      <td>0000f46a3911fa3c0805444483337064</td>\n",
       "      <td>541</td>\n",
       "      <td>1</td>\n",
       "      <td>69.00</td>\n",
       "      <td>1</td>\n",
       "      <td>1</td>\n",
       "      <td>2</td>\n",
       "      <td>112</td>\n",
       "      <td>hibernating</td>\n",
       "    </tr>\n",
       "    <tr>\n",
       "      <th>3</th>\n",
       "      <td>0000f6ccb0745a6a4b88665a16c9f078</td>\n",
       "      <td>325</td>\n",
       "      <td>1</td>\n",
       "      <td>25.99</td>\n",
       "      <td>2</td>\n",
       "      <td>1</td>\n",
       "      <td>1</td>\n",
       "      <td>211</td>\n",
       "      <td>hibernating</td>\n",
       "    </tr>\n",
       "    <tr>\n",
       "      <th>4</th>\n",
       "      <td>0004aac84e0df4da2b147fca70cf8255</td>\n",
       "      <td>292</td>\n",
       "      <td>1</td>\n",
       "      <td>180.00</td>\n",
       "      <td>2</td>\n",
       "      <td>1</td>\n",
       "      <td>4</td>\n",
       "      <td>214</td>\n",
       "      <td>hibernating</td>\n",
       "    </tr>\n",
       "  </tbody>\n",
       "</table>\n",
       "</div>"
      ],
      "text/plain": [
       "                 customer_unique_id  Recency  Frequency  Monetary  R  F  M  \\\n",
       "0  0000366f3b9a7992bf8c76cfdf3221e2      115          1    129.90  4  1  4   \n",
       "1  0000b849f77a49e4a4ce2b2a4ca5be3f      118          1     18.90  4  1  1   \n",
       "2  0000f46a3911fa3c0805444483337064      541          1     69.00  1  1  2   \n",
       "3  0000f6ccb0745a6a4b88665a16c9f078      325          1     25.99  2  1  1   \n",
       "4  0004aac84e0df4da2b147fca70cf8255      292          1    180.00  2  1  4   \n",
       "\n",
       "  RFM_segment        Segment  \n",
       "0         414  new customers  \n",
       "1         411  new customers  \n",
       "2         112    hibernating  \n",
       "3         211    hibernating  \n",
       "4         214    hibernating  "
      ]
     },
     "execution_count": 91,
     "metadata": {},
     "output_type": "execute_result"
    }
   ],
   "source": [
    "# Creating a dictionary categories, where keys are regular expressions (first two digits of the segment), \n",
    "# and values are customer segments in descriptive form based on certain criteria.\n",
    "\n",
    "# hibernating - poor Recency and Frequency (made a purchase long ago and did not return for a repeat purchase)\n",
    "\n",
    "# at risk - poor Recency and average Frequency (made a purchase long ago but returned multiple times)\n",
    "\n",
    "# can not loose - poor Recency and good Frequency (made a purchase long ago but purchased frequently)\n",
    "\n",
    "# about to sleep - average Recency and poor Frequency (made a purchase not too long ago but did not return for \n",
    "# a repeat purchase)\n",
    "\n",
    "# need attention - average Recency and average Frequency (made a purchase not too long ago and returned multiple \n",
    "# times)\n",
    "\n",
    "# loyal customers - average Recency and good Frequency (made a purchase not too long ago and purchases frequently)\n",
    "\n",
    "# promising - good Recency and poor Frequency (made a purchase very recently but has not returned yet)\n",
    "\n",
    "# potential loyalists - good Recency and average Frequency (made a purchase very recently and returned multiple times)\n",
    "\n",
    "# champions - good Recency and good Frequency (made a purchase very recently and purchases frequently)\n",
    "\n",
    "\n",
    "categories = {\n",
    "    r'[1-2]1': 'hibernating',\n",
    "    r'[1-2][2-3]': 'at risk',\n",
    "    r'[1-2][4-5]': 'can not loose',\n",
    "    \n",
    "    r'31': 'about to sleep',\n",
    "    r'3[2-3]': 'need attention',\n",
    "    r'[3-4][4-5]': 'loyal customers',\n",
    "    \n",
    "    r'[4-5]1': 'new customers',\n",
    "    r'[4-5][2-3]': 'potential loyalists',\n",
    "    r'5[4-5]': 'champions'\n",
    "}\n",
    "\n",
    "RFM['Segment'] = RFM['R'].map(str) + RFM['F'].map(str)\n",
    "RFM['Segment'] = RFM['Segment'].replace(categories, regex=True)\n",
    "RFM.head()"
   ]
  },
  {
   "cell_type": "code",
   "execution_count": 99,
   "metadata": {},
   "outputs": [
    {
     "data": {
      "text/html": [
       "<div>\n",
       "<style scoped>\n",
       "    .dataframe tbody tr th:only-of-type {\n",
       "        vertical-align: middle;\n",
       "    }\n",
       "\n",
       "    .dataframe tbody tr th {\n",
       "        vertical-align: top;\n",
       "    }\n",
       "\n",
       "    .dataframe thead th {\n",
       "        text-align: right;\n",
       "    }\n",
       "</style>\n",
       "<table border=\"1\" class=\"dataframe\">\n",
       "  <thead>\n",
       "    <tr style=\"text-align: right;\">\n",
       "      <th></th>\n",
       "      <th>Segment</th>\n",
       "      <th>number_of_customers</th>\n",
       "    </tr>\n",
       "  </thead>\n",
       "  <tbody>\n",
       "    <tr>\n",
       "      <th>4</th>\n",
       "      <td>hibernating</td>\n",
       "      <td>36850</td>\n",
       "    </tr>\n",
       "    <tr>\n",
       "      <th>7</th>\n",
       "      <td>new customers</td>\n",
       "      <td>36791</td>\n",
       "    </tr>\n",
       "    <tr>\n",
       "      <th>0</th>\n",
       "      <td>about to sleep</td>\n",
       "      <td>18423</td>\n",
       "    </tr>\n",
       "    <tr>\n",
       "      <th>8</th>\n",
       "      <td>potential loyalists</td>\n",
       "      <td>1136</td>\n",
       "    </tr>\n",
       "    <tr>\n",
       "      <th>1</th>\n",
       "      <td>at risk</td>\n",
       "      <td>888</td>\n",
       "    </tr>\n",
       "    <tr>\n",
       "      <th>6</th>\n",
       "      <td>need attention</td>\n",
       "      <td>553</td>\n",
       "    </tr>\n",
       "    <tr>\n",
       "      <th>3</th>\n",
       "      <td>champions</td>\n",
       "      <td>20</td>\n",
       "    </tr>\n",
       "    <tr>\n",
       "      <th>5</th>\n",
       "      <td>loyal customers</td>\n",
       "      <td>19</td>\n",
       "    </tr>\n",
       "    <tr>\n",
       "      <th>2</th>\n",
       "      <td>can not loose</td>\n",
       "      <td>7</td>\n",
       "    </tr>\n",
       "  </tbody>\n",
       "</table>\n",
       "</div>"
      ],
      "text/plain": [
       "               Segment  number_of_customers\n",
       "4          hibernating                36850\n",
       "7        new customers                36791\n",
       "0       about to sleep                18423\n",
       "8  potential loyalists                 1136\n",
       "1              at risk                  888\n",
       "6       need attention                  553\n",
       "3            champions                   20\n",
       "5      loyal customers                   19\n",
       "2        can not loose                    7"
      ]
     },
     "execution_count": 99,
     "metadata": {},
     "output_type": "execute_result"
    }
   ],
   "source": [
    "# Calculating the number of customers in each segment\n",
    "segments_counts = RFM.groupby('Segment', as_index = False)\\\n",
    "                    .agg({'customer_unique_id':pd.Series.nunique})\\\n",
    "                    .rename(columns = {'customer_unique_id':'number_of_customers'})\\\n",
    "                    .sort_values('number_of_customers', ascending = False)\n",
    "segments_counts"
   ]
  },
  {
   "cell_type": "code",
   "execution_count": null,
   "metadata": {},
   "outputs": [],
   "source": []
  }
 ],
 "metadata": {
  "kernelspec": {
   "display_name": "Python 3",
   "language": "python",
   "name": "python3"
  },
  "language_info": {
   "codemirror_mode": {
    "name": "ipython",
    "version": 3
   },
   "file_extension": ".py",
   "mimetype": "text/x-python",
   "name": "python",
   "nbconvert_exporter": "python",
   "pygments_lexer": "ipython3",
   "version": "3.7.3"
  }
 },
 "nbformat": 4,
 "nbformat_minor": 4
}
